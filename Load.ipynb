{
 "cells": [
  {
   "cell_type": "code",
   "execution_count": 12,
   "id": "630f5af7",
   "metadata": {},
   "outputs": [
    {
     "name": "stdout",
     "output_type": "stream",
     "text": [
      "    s.no First Name  Gender Login Time  Salary  Bonus%           Team  \\\n",
      "0      1     Mithun    Male    8.00 am   30000    3000      Marketing   \n",
      "1      2       John    Male    8.05 am   32000    3500      Marketing   \n",
      "2      3       Jake    Male    8.00 am   35000    4000          Sales   \n",
      "3      4     Joseph    Male    8.10 am   35000    4000  Manufacturing   \n",
      "4      5      Revan    Male    8.05 am   50000    6500  Manufacturing   \n",
      "5      6      Rahul    Male    8.12 am   40000    5000          Sales   \n",
      "6      7     Aparna  Female    8.10 am   45000    5000      Marketing   \n",
      "7      8   Harshini  Female    8.20 am   48000    4500          Sales   \n",
      "8      9     Chris     Male    8.15 am   55000    5000  Manufacturing   \n",
      "9     10      Rohan    Male    8.00 am   44000    3500      Marketing   \n",
      "10    11    Pradeep    Male    8.05 am   50000    5000          Sales   \n",
      "11    12     Roshan    Male    8.14 am   48000    3500      Marketing   \n",
      "12    13     Yathav    Male    8.29 am   45000    4000          Sales   \n",
      "13    14      Akhil    Male    8.30 am   50000    2900     Production   \n",
      "14    15    Jayanth    Male    8.25 am   39000    3000          Sales   \n",
      "15    16     Swetha  Female    8.22 am   46000    3000      Marketing   \n",
      "16    17   Nandhini  Female    8.16 am   56000    3500          Sales   \n",
      "17    18     Shadab    Male    8.18 am   39000    4000     Production   \n",
      "18    19     Saheer    Male    8.22 am   46000    4500  Manufacturing   \n",
      "19    20       Miru  Female    8.20 am   37000    2500          Sales   \n",
      "\n",
      "    Designation  \n",
      "0   Coordinator  \n",
      "1   Coordinator  \n",
      "2            HR  \n",
      "3        Assist  \n",
      "4   Coordinator  \n",
      "5       Manager  \n",
      "6            HR  \n",
      "7   Coordinator  \n",
      "8            HR  \n",
      "9       Manager  \n",
      "10           HR  \n",
      "11       Assist  \n",
      "12       Assist  \n",
      "13           HR  \n",
      "14  Coordinator  \n",
      "15           HR  \n",
      "16      Manager  \n",
      "17  Coordinator  \n",
      "18      Manager  \n",
      "19  Coordinator  \n"
     ]
    }
   ],
   "source": [
    "import pandas as pd\n",
    "d=pd.read_csv(\"/Users/student/Downloads/Employee.csv\")\n",
    "print(d)"
   ]
  },
  {
   "cell_type": "code",
   "execution_count": 11,
   "id": "9b73ae27",
   "metadata": {},
   "outputs": [
    {
     "name": "stdout",
     "output_type": "stream",
     "text": [
      "Columns Index(['s.no', 'First Name', 'Gender', 'Login Time', 'Salary', 'Bonus%',\n",
      "       'Team', 'Designation'],\n",
      "      dtype='object')\n",
      "(20, 8)\n"
     ]
    }
   ],
   "source": [
    "df=pd.DataFrame(d)\n",
    "print(\"Columns\",df.columns)\n",
    "print(df.shape)"
   ]
  },
  {
   "cell_type": "code",
   "execution_count": 2,
   "id": "9a666be7",
   "metadata": {},
   "outputs": [
    {
     "name": "stdout",
     "output_type": "stream",
     "text": [
      "First Name 0       Mithun\n",
      "1         John\n",
      "2         Jake\n",
      "3       Joseph\n",
      "4        Revan\n",
      "5        Rahul\n",
      "6       Aparna\n",
      "7     Harshini\n",
      "8       Chris \n",
      "9        Rohan\n",
      "10     Pradeep\n",
      "11      Roshan\n",
      "12      Yathav\n",
      "13       Akhil\n",
      "14     Jayanth\n",
      "15      Swetha\n",
      "16    Nandhini\n",
      "17      Shadab\n",
      "18      Saheer\n",
      "19        Miru\n",
      "Name: First Name, dtype: object\n"
     ]
    }
   ],
   "source": [
    "import pandas as pd\n",
    "d=pd.read_csv(\"/Users/Student/Downloads/Employee.csv\")\n",
    "df=pd.DataFrame(d)\n",
    "print(\"First Name\",df['First Name'])"
   ]
  },
  {
   "cell_type": "code",
   "execution_count": 4,
   "id": "041dc495",
   "metadata": {},
   "outputs": [
    {
     "name": "stdout",
     "output_type": "stream",
     "text": [
      "   s.no First Name Gender Login Time  Salary  Bonus%           Team  \\\n",
      "2     3       Jake   Male    8.00 am   35000    4000          Sales   \n",
      "3     4     Joseph   Male    8.10 am   35000    4000  Manufacturing   \n",
      "4     5      Revan   Male    8.05 am   50000    6500  Manufacturing   \n",
      "\n",
      "   Designation  \n",
      "2           HR  \n",
      "3       Assist  \n",
      "4  Coordinator  \n"
     ]
    }
   ],
   "source": [
    "print(df[2:5])"
   ]
  },
  {
   "cell_type": "code",
   "execution_count": 5,
   "id": "4837f5c5",
   "metadata": {},
   "outputs": [
    {
     "name": "stdout",
     "output_type": "stream",
     "text": [
      "Particular Person Details:\n",
      " s.no                       9\n",
      "First Name            Chris \n",
      "Gender                  Male\n",
      "Login Time           8.15 am\n",
      "Salary                 55000\n",
      "Bonus%                  5000\n",
      "Team           Manufacturing\n",
      "Designation               HR\n",
      "Name: 8, dtype: object\n"
     ]
    }
   ],
   "source": [
    "print(\"Particular Person Details:\\n\",df.loc[8])"
   ]
  },
  {
   "cell_type": "code",
   "execution_count": 6,
   "id": "0c653b8b",
   "metadata": {},
   "outputs": [
    {
     "name": "stdout",
     "output_type": "stream",
     "text": [
      "   s.no First Name Gender Login Time  Salary  Bonus%       Team  Designation\n",
      "1     2       John   Male    8.05 am   32000    3500  Marketing  Coordinator\n"
     ]
    }
   ],
   "source": [
    "print(d.loc[d['Salary']==32000])"
   ]
  },
  {
   "cell_type": "code",
   "execution_count": 7,
   "id": "72364b62",
   "metadata": {},
   "outputs": [
    {
     "name": "stdout",
     "output_type": "stream",
     "text": [
      "0     0.93750\n",
      "1     1.00000\n",
      "2     1.09375\n",
      "3     1.09375\n",
      "4     1.56250\n",
      "5     1.25000\n",
      "6     1.40625\n",
      "7     1.50000\n",
      "8     1.71875\n",
      "9     1.37500\n",
      "10    1.56250\n",
      "11    1.50000\n",
      "12    1.40625\n",
      "13    1.56250\n",
      "14    1.21875\n",
      "15    1.43750\n",
      "16    1.75000\n",
      "17    1.21875\n",
      "18    1.43750\n",
      "19    1.15625\n",
      "Name: Salary, dtype: float64\n"
     ]
    }
   ],
   "source": [
    "df=d['Salary']/32000\n",
    "print(df)"
   ]
  },
  {
   "cell_type": "code",
   "execution_count": null,
   "id": "39bc36cb",
   "metadata": {},
   "outputs": [],
   "source": []
  }
 ],
 "metadata": {
  "kernelspec": {
   "display_name": "Python 3 (ipykernel)",
   "language": "python",
   "name": "python3"
  },
  "language_info": {
   "codemirror_mode": {
    "name": "ipython",
    "version": 3
   },
   "file_extension": ".py",
   "mimetype": "text/x-python",
   "name": "python",
   "nbconvert_exporter": "python",
   "pygments_lexer": "ipython3",
   "version": "3.11.5"
  }
 },
 "nbformat": 4,
 "nbformat_minor": 5
}
