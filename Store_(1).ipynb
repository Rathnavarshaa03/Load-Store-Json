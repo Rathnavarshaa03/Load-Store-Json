{
  "cells": [
    {
      "cell_type": "code",
      "execution_count": null,
      "id": "5e10ed40",
      "metadata": {
        "id": "5e10ed40",
        "outputId": "3de9eeed-c932-4d4d-b133-9e088700ec57"
      },
      "outputs": [
        {
          "name": "stdout",
          "output_type": "stream",
          "text": [
            "       a  b  c\n",
            "one    1  2  3\n",
            "two    4  5  6\n",
            "three  7  8  9\n"
          ]
        }
      ],
      "source": [
        "import pandas as pd\n",
        "df=pd.DataFrame([[1,2,3],[4,5,6],[7,8,9]],index=['one','two','three'],columns=['a','b','c'])\n",
        "print(df)\n",
        "\n"
      ]
    },
    {
      "cell_type": "code",
      "execution_count": null,
      "id": "732e67d7",
      "metadata": {
        "id": "732e67d7"
      },
      "outputs": [],
      "source": [
        "df.to_excel(\"/Users/student/Downloads/varsha.xlsx\")\n",
        "df.to_excel(\"/Users/student/Downloads/varsha2.xlsx\")"
      ]
    },
    {
      "cell_type": "code",
      "execution_count": null,
      "id": "e291f9f3",
      "metadata": {
        "id": "e291f9f3"
      },
      "outputs": [],
      "source": [
        "df=pd.DataFrame([[10,20,30],[40,50,60],[70,80,90]],index=['four','five','six'],columns=['X','Y','Z'])\n",
        "df.to_excel(\"/Users/student/Downloads/varsha.xlsx\")\n"
      ]
    },
    {
      "cell_type": "code",
      "execution_count": null,
      "id": "7dd63239",
      "metadata": {
        "id": "7dd63239"
      },
      "outputs": [],
      "source": [
        "x=d=pd.DataFrame([[6,7],[1,2]],index=['a','b'],columns=['X','Y'])\n",
        "df.to_excel(\"/Users/student/Downloads/varsha.xlsx\")\n"
      ]
    },
    {
      "cell_type": "code",
      "execution_count": null,
      "id": "ce5cda30",
      "metadata": {
        "id": "ce5cda30"
      },
      "outputs": [],
      "source": [
        "X=pd.read_excel(\"/Users/student/Downloads/varsha.xlsx\")\n",
        "Y=pd.read_excel(\"/Users/student/Downloads/varsha2.xlsx\")\n",
        "Z=pd.concat([X,Y])\n",
        "Z.to_excel(\"/Users/student/Downloads/varsha3.xlsx\")"
      ]
    },
    {
      "cell_type": "code",
      "execution_count": null,
      "id": "87b796b9",
      "metadata": {
        "id": "87b796b9"
      },
      "outputs": [],
      "source": []
    },
    {
      "cell_type": "code",
      "execution_count": null,
      "id": "fbf6a81f",
      "metadata": {
        "id": "fbf6a81f"
      },
      "outputs": [],
      "source": []
    }
  ],
  "metadata": {
    "kernelspec": {
      "display_name": "Python 3 (ipykernel)",
      "language": "python",
      "name": "python3"
    },
    "language_info": {
      "codemirror_mode": {
        "name": "ipython",
        "version": 3
      },
      "file_extension": ".py",
      "mimetype": "text/x-python",
      "name": "python",
      "nbconvert_exporter": "python",
      "pygments_lexer": "ipython3",
      "version": "3.11.5"
    },
    "colab": {
      "provenance": []
    }
  },
  "nbformat": 4,
  "nbformat_minor": 5
}